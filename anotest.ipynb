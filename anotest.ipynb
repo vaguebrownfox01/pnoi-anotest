{
 "cells": [
  {
   "cell_type": "code",
   "execution_count": 7,
   "metadata": {},
   "outputs": [],
   "source": [
    "import os\n",
    "import glob\n",
    "import json\n",
    "import shutil\n",
    "import functools\n",
    "import pandas as pd\n"
   ]
  },
  {
   "cell_type": "code",
   "execution_count": 8,
   "metadata": {},
   "outputs": [],
   "source": [
    "DATA_PATH = \"./DATA_/pnoistor_*\""
   ]
  },
  {
   "cell_type": "code",
   "execution_count": 9,
   "metadata": {},
   "outputs": [],
   "source": [
    "mkdir = lambda p: 0 if os.path.exists(p) else (os.mkdir(p), 1)[1]"
   ]
  },
  {
   "cell_type": "code",
   "execution_count": 10,
   "metadata": {},
   "outputs": [],
   "source": [
    "class Annotest:\n",
    "    SEP = \"-\"\n",
    "    # FKEYS = [\"app_code 0\", \"sub_id 1\", \"file_class 2\", \"file_ID 3\", \"comment 4\", \"file_format 5\", \"file_name 6\", \"file_path 7\", \"file_match 8\"]\n",
    "    fkeys = {\n",
    "        \"APP_CODE\": \"app_code\",\n",
    "        \"SID\":\"sub_id\",\n",
    "        \"FCLASS\": \"file_class\",\n",
    "        \"FID\": \"file_ID\",\n",
    "        \"COMNT\": \"comment\",\n",
    "        \"FFMT\": \"file_format\",\n",
    "        \"FNAME\": \"file_name\",\n",
    "        \"FPATH\": \"file_path\",\n",
    "        \"FMATCH\": \"file_match\"\n",
    "    }\n",
    "\n",
    "    ANOT_FILE_TYPES = [\"txt\", \"csv\"]\n",
    "    ANOT_LABELS = [\"aa\", \"ee\", \"uu\", \"oo\", \"ii\", \"xx\", \"bb1\", \"bb2\", \"bb3\", \"bb4\"]\n",
    "    ALL_FILES_DF: pd.DataFrame\n",
    "    ALL_METADATA_DF: pd.DataFrame\n",
    "    ALL_AUDIO_ANOTE_DF: pd.DataFrame\n",
    "\n",
    "    ALL_SUBJECTS_LIST: tuple[int, list]\n",
    "\n",
    "    def __init__(self, dataset_path: str) -> None:\n",
    "        all_files = glob.glob(f\"{dataset_path}/*/pnoistor_*\")\n",
    "\n",
    "        self.ALL_FILES_DF = self.make_files_df(all_files)\n",
    "        self.ALL_SUBJECTS_LIST = self.get_subject_list()\n",
    "        \n",
    "        self.ALL_METADATA_DF = self.make_metadata_df()\n",
    "        self.ALL_AUDIO_ANOTE_DF = self.make_aud_anot_df()\n",
    "\n",
    "\n",
    "    def make_files_df(self, all_files: list) -> pd.DataFrame:\n",
    "        files = [self.file_dict(fp) for fp in all_files]\n",
    "        return pd.DataFrame(files)\n",
    "\n",
    "    def make_metadata_df(self) -> pd.DataFrame:\n",
    "        meta_file_df = self.filter_file_df(self.META_FKEYS)\n",
    "\n",
    "        meta_data = [\n",
    "            mf.to_dict() | self.read_json(mf[self.fkeys[\"FPATH\"]])\n",
    "            for _, mf in meta_file_df.iterrows()\n",
    "        ]\n",
    "\n",
    "        return pd.DataFrame(meta_data).copy()\n",
    "    \n",
    "    def make_aud_anot_df(self):\n",
    "        anot_file_df = self.filter_file_df(self.AUDIO_ANOT_FKEYS)\n",
    "\n",
    "        aud_anot = [\n",
    "            self.read_aud_anot(af)\n",
    "            for _, af in anot_file_df.iterrows()\n",
    "        ]\n",
    "        return pd.concat(aud_anot).copy()\n",
    "\n",
    "    def read_aud_anot(self, finfo: pd.Series):\n",
    "        df = pd.read_csv(finfo[self.fkeys[\"FPATH\"]], sep=\"\\t\", names=[\"start\", \"end\", \"label\"])\n",
    "        df[\"line_number\"] = range(1, len(df) + 1)\n",
    "        df[\"dur\"] = df[\"end\"] - df[\"start\"]\n",
    "        return pd.concat([finfo.to_frame().T]*len(df), ignore_index=True, axis=0).join(df)\n",
    "\n",
    "\n",
    "    def read_json(self, fpath: str) -> dict:\n",
    "        with open(fpath, \"r\") as m:\n",
    "            return json.load(m)[\"subjectBiodata\"]\n",
    "\n",
    "    def file_dict(self, fpath: str) -> dict:\n",
    "        _, fname = os.path.split(fpath)\n",
    "        match_key = fname.split(\".\")[0]\n",
    "        fitems = fname.replace(\".\", self.SEP).split(self.SEP) + [fname, fpath, match_key]\n",
    "        fdict = dict(zip(self.fkeys.values(), fitems))\n",
    "\n",
    "        return fdict\n",
    "\n",
    "    def get_files_df(self) -> pd.DataFrame:\n",
    "        return self.ALL_FILES_DF\n",
    "\n",
    "    def get_subject_list(self) -> list:\n",
    "        s = pd.unique(self.ALL_FILES_DF[self.fkeys[\"SID\"]])\n",
    "        return (len(s), s)\n",
    "\n",
    "    def get_subject_file_df(self, sid: str) -> list:\n",
    "        filt = self.ALL_FILES_DF[self.fkeys[\"SID\"]] == sid\n",
    "        return self.ALL_FILES_DF.loc[filt]\n",
    "\n",
    "    def filter_file_df(self, keys: list) -> pd.DataFrame:\n",
    "\n",
    "        filts = [self.ALL_FILES_DF[self.fkeys[\"FNAME\"]].str.contains(k) for k in keys]\n",
    "        filt = functools.reduce(lambda p, c: p & c, filts)\n",
    "\n",
    "        return self.ALL_FILES_DF.loc[filt].copy()\n",
    "\n",
    "\n",
    "    # Tests\n",
    "    META_FKEYS = [\"META\", \"json\"]\n",
    "    AUDIO_FKEYS = [\"BA_\", \"wav|WAV\"]\n",
    "    AUDIO_ANOT_FKEYS = [\"BA_\", \"txt\"]\n",
    "    PFT_FKEYS = [\"PFT_\", \"pdf\"]\n",
    "    PFT_ANOT_FKEYS = [\"PFT_\", \"tsv|csv\"]\n",
    "    \n",
    "    def get_aud_anot_typos(self):\n",
    "        a_df = self.ALL_AUDIO_ANOTE_DF\n",
    "        filt = ~a_df[\"label\"].isin(self.ANOT_LABELS)\n",
    "        return a_df[filt]\n",
    "    \n",
    "    def get_pairless_breath(self):\n",
    "        \n",
    "        pairless = []\n",
    "        for file_name in pd.unique(self.ALL_AUDIO_ANOTE_DF[\"file_name\"]):\n",
    "            \n",
    "            filt = (self.ALL_AUDIO_ANOTE_DF[\"label\"].str.contains(\"ii|xx\")) & (self.ALL_AUDIO_ANOTE_DF[\"file_name\"] == file_name) & (self.ALL_AUDIO_ANOTE_DF[\"file_name\"].str.contains(\"VBA_\"))\n",
    "            df = self.ALL_AUDIO_ANOTE_DF.loc[filt].reset_index()\n",
    "            df[\"shift_cat_label\"] = df[\"label\"] + df[\"label\"].shift(-1)\n",
    "            df[\"shift_dif_dur\"] = df[\"start\"].shift(-1) - df[\"end\"]\n",
    "\n",
    "            df_even = df.iloc[::2]\n",
    "            pairless_df = df_even[df_even[\"shift_cat_label\"] != 'iixx']\n",
    "            pairless.append(pairless_df)\n",
    "\n",
    "        return pd.concat(pairless)\n",
    "\n",
    "    def get_anotless(self, k_file, k_anot):\n",
    "        f1 = self.filter_file_df(k_file)\n",
    "        f2 = self.filter_file_df(k_anot)\n",
    "\n",
    "        fm = f1.merge(f2, how=\"left\", on=[self.fkeys[\"FMATCH\"]])\n",
    "        k = self.fkeys[\"FNAME\"]\n",
    "        return fm.loc[fm[f\"{k}_y\"].isna()].copy()\n",
    "\n",
    "    def get_anotless_aud(self):\n",
    "        return self.get_anotless(self.AUDIO_FKEYS, self.AUDIO_ANOT_FKEYS)\n",
    "    \n",
    "    def get_anotless_pft(self):\n",
    "        return self.get_anotless(self.PFT_FKEYS, self.PFT_ANOT_FKEYS)\n",
    "    \n",
    "    REPORT_FOLDER = \"./report/annotest\"\n",
    "    \n",
    "    def check_anots(self):\n",
    "\n",
    "        mkdir(self.REPORT_FOLDER)\n",
    "\n",
    "        _a = self.get_anotless_aud()\n",
    "        _a.to_csv(f\"{self.REPORT_FOLDER}/missing_anotes.csv\", index=False, columns=['app_code_x', 'sub_id_x', 'file_class_x', 'file_name_x'])\n",
    "\n",
    "        _a2 = self.get_aud_anot_typos()\n",
    "        _a2.to_csv(f\"{self.REPORT_FOLDER}/anot_typos.csv\", index=False, columns=['app_code', 'sub_id', 'file_name', 'label', 'line_number'])\n",
    "\n",
    "        _a3 = self.get_pairless_breath()\n",
    "        _a3.to_csv(f\"{self.REPORT_FOLDER}/pairless_breath.csv\", index=False, columns=['app_code', 'sub_id', 'file_name', 'label', 'line_number'])\n",
    "\n",
    "        _b = self.get_anotless_pft()\n",
    "        _b.to_csv(f\"{self.REPORT_FOLDER}/missing_pft.csv\", index=False, columns=['app_code_x', 'sub_id_x', 'file_class_x', 'file_name_x'])\n",
    "\n",
    "\n",
    "        \n",
    "\n",
    "\n",
    "\n",
    "\n",
    "\n",
    "pnoiannotest = Annotest(DATA_PATH)\n",
    "\n",
    "# annotest.get_anotless_aud()\n",
    "\n",
    "# pnoiannotest.get_aud_anot_typos()\n",
    "pnoiannotest.check_anots()\n"
   ]
  },
  {
   "cell_type": "code",
   "execution_count": 11,
   "metadata": {},
   "outputs": [],
   "source": [
    "pnoiannotest.check_anots()\n"
   ]
  },
  {
   "cell_type": "code",
   "execution_count": 12,
   "metadata": {},
   "outputs": [],
   "source": [
    "mkdir = lambda p: 0 if os.path.exists(p) else os.mkdir(p)"
   ]
  },
  {
   "cell_type": "code",
   "execution_count": 13,
   "metadata": {},
   "outputs": [
    {
     "data": {
      "text/plain": [
       "0     None\n",
       "1     None\n",
       "2     None\n",
       "6     None\n",
       "7     None\n",
       "25    None\n",
       "29    None\n",
       "dtype: object"
      ]
     },
     "execution_count": 13,
     "metadata": {},
     "output_type": "execute_result"
    }
   ],
   "source": [
    "def export_toanot(row):\n",
    "    to_anote_folder = \"./to_anote/pft\"\n",
    "    mkdir(to_anote_folder)\n",
    "\n",
    "    shutil.copy(row[\"file_path_x\"], to_anote_folder)\n",
    "\n",
    "\n",
    "pnoiannotest.get_anotless_pft().apply(export_toanot, axis=1)\n"
   ]
  },
  {
   "cell_type": "code",
   "execution_count": 14,
   "metadata": {},
   "outputs": [
    {
     "data": {
      "text/plain": [
       "0      None\n",
       "1      None\n",
       "2      None\n",
       "3      None\n",
       "4      None\n",
       "5      None\n",
       "6      None\n",
       "7      None\n",
       "8      None\n",
       "9      None\n",
       "10     None\n",
       "11     None\n",
       "12     None\n",
       "13     None\n",
       "14     None\n",
       "45     None\n",
       "46     None\n",
       "47     None\n",
       "48     None\n",
       "49     None\n",
       "50     None\n",
       "51     None\n",
       "52     None\n",
       "53     None\n",
       "78     None\n",
       "107    None\n",
       "119    None\n",
       "120    None\n",
       "121    None\n",
       "122    None\n",
       "123    None\n",
       "139    None\n",
       "140    None\n",
       "141    None\n",
       "142    None\n",
       "143    None\n",
       "191    None\n",
       "192    None\n",
       "196    None\n",
       "dtype: object"
      ]
     },
     "execution_count": 14,
     "metadata": {},
     "output_type": "execute_result"
    }
   ],
   "source": [
    "def export_toanot(row):\n",
    "    to_anote_folder = \"./to_anote/audio\"\n",
    "    mkdir(to_anote_folder)\n",
    "\n",
    "    shutil.copy(row[\"file_path_x\"], to_anote_folder)\n",
    "\n",
    "\n",
    "pnoiannotest.get_anotless_aud().apply(export_toanot, axis=1)"
   ]
  },
  {
   "cell_type": "code",
   "execution_count": 15,
   "metadata": {},
   "outputs": [
    {
     "data": {
      "text/html": [
       "<div>\n",
       "<style scoped>\n",
       "    .dataframe tbody tr th:only-of-type {\n",
       "        vertical-align: middle;\n",
       "    }\n",
       "\n",
       "    .dataframe tbody tr th {\n",
       "        vertical-align: top;\n",
       "    }\n",
       "\n",
       "    .dataframe thead th {\n",
       "        text-align: right;\n",
       "    }\n",
       "</style>\n",
       "<table border=\"1\" class=\"dataframe\">\n",
       "  <thead>\n",
       "    <tr style=\"text-align: right;\">\n",
       "      <th></th>\n",
       "      <th>app_code</th>\n",
       "      <th>sub_id</th>\n",
       "      <th>file_class</th>\n",
       "      <th>file_ID</th>\n",
       "      <th>comment</th>\n",
       "      <th>file_format</th>\n",
       "      <th>file_name</th>\n",
       "      <th>file_path</th>\n",
       "      <th>file_match</th>\n",
       "      <th>start</th>\n",
       "      <th>end</th>\n",
       "      <th>label</th>\n",
       "      <th>line_number</th>\n",
       "      <th>dur</th>\n",
       "    </tr>\n",
       "  </thead>\n",
       "  <tbody>\n",
       "  </tbody>\n",
       "</table>\n",
       "</div>"
      ],
      "text/plain": [
       "Empty DataFrame\n",
       "Columns: [app_code, sub_id, file_class, file_ID, comment, file_format, file_name, file_path, file_match, start, end, label, line_number, dur]\n",
       "Index: []"
      ]
     },
     "execution_count": 15,
     "metadata": {},
     "output_type": "execute_result"
    }
   ],
   "source": [
    "filt_nofile = pnoiannotest.ALL_AUDIO_ANOTE_DF.apply(lambda x: os.path.exists(x[\"file_path\"]), axis=1)\n",
    "pnoiannotest.ALL_AUDIO_ANOTE_DF[~filt_nofile]"
   ]
  },
  {
   "cell_type": "code",
   "execution_count": 16,
   "metadata": {},
   "outputs": [
    {
     "data": {
      "text/plain": [
       "(33,\n",
       " array(['maitribrambhatt_540264cd', 'aditis_96917e0d',\n",
       "        'ashwinraikar_4f6053c3', 'sagarkumar_b77e6507',\n",
       "        'vijayaomkar_b866b679', 'saikeerthanaarun_3364bc1a',\n",
       "        'kumarchowdam_53f32e31', 'sannashoukat_5213fe84', 'manju_e54090da',\n",
       "        'rayniva_f3e542e1', 'anitajoby_8bf5d711', 'sujatan_bdd161b6',\n",
       "        'royjoseph_4136005e', 'kamakshi_e7a7aae6', 'nagaraju_0b600fb0',\n",
       "        'sananaushad_80e84b51', 'shreyamgupta_78aa423a',\n",
       "        'oshinsaha_357a6a6b', 'darshanvshettar_843c416b',\n",
       "        'atifahmed_ebb5032c', 'lokeshk_90b4871a',\n",
       "        'sharmisthachakrabarti_80531fda', 'amartyaveer_81b8f33c',\n",
       "        'rahulkumar_710a4b74', 'jesurajabandekar_7273cc8f',\n",
       "        'muralikadambi_3895019a', 'nanjazhakig_7876351b',\n",
       "        'johnkiranborugada_e390538c', 'saurabhkumar_92bef9b7',\n",
       "        'mohammadroshan_269b6326', 'shivaganga_46c140d9',\n",
       "        'sagayamary_258e8be2', 'valli_82ee8284'], dtype=object))"
      ]
     },
     "execution_count": 16,
     "metadata": {},
     "output_type": "execute_result"
    }
   ],
   "source": [
    "pnoiannotest.ALL_SUBJECTS_LIST\n"
   ]
  }
 ],
 "metadata": {
  "kernelspec": {
   "display_name": "pytorch",
   "language": "python",
   "name": "python3"
  },
  "language_info": {
   "codemirror_mode": {
    "name": "ipython",
    "version": 3
   },
   "file_extension": ".py",
   "mimetype": "text/x-python",
   "name": "python",
   "nbconvert_exporter": "python",
   "pygments_lexer": "ipython3",
   "version": "3.9.7"
  },
  "orig_nbformat": 4,
  "vscode": {
   "interpreter": {
    "hash": "551933d52e43033e2fc8371ff9c262d4dc28c522c972d519e079bc9464f5316c"
   }
  }
 },
 "nbformat": 4,
 "nbformat_minor": 2
}
